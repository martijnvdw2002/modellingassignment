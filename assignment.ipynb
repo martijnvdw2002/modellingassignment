{
 "cells": [
  {
   "cell_type": "code",
   "execution_count": 1,
   "metadata": {},
   "outputs": [],
   "source": [
    "import pandas as pd"
   ]
  },
  {
   "cell_type": "code",
   "execution_count": 4,
   "metadata": {},
   "outputs": [
    {
     "data": {
      "text/html": [
       "<div>\n",
       "<style scoped>\n",
       "    .dataframe tbody tr th:only-of-type {\n",
       "        vertical-align: middle;\n",
       "    }\n",
       "\n",
       "    .dataframe tbody tr th {\n",
       "        vertical-align: top;\n",
       "    }\n",
       "\n",
       "    .dataframe thead th {\n",
       "        text-align: right;\n",
       "    }\n",
       "</style>\n",
       "<table border=\"1\" class=\"dataframe\">\n",
       "  <thead>\n",
       "    <tr style=\"text-align: right;\">\n",
       "      <th></th>\n",
       "      <th>Unnamed: 0</th>\n",
       "      <th>products_sold</th>\n",
       "      <th>product_category</th>\n",
       "      <th>quality</th>\n",
       "      <th>satisfaction</th>\n",
       "      <th>discount</th>\n",
       "      <th>retail_price</th>\n",
       "      <th>perc_physical</th>\n",
       "      <th>market_size</th>\n",
       "    </tr>\n",
       "  </thead>\n",
       "  <tbody>\n",
       "    <tr>\n",
       "      <th>0</th>\n",
       "      <td>1</td>\n",
       "      <td>67648</td>\n",
       "      <td>health</td>\n",
       "      <td>off_brand</td>\n",
       "      <td>3.5</td>\n",
       "      <td>12</td>\n",
       "      <td>33.0</td>\n",
       "      <td>42.3</td>\n",
       "      <td>852</td>\n",
       "    </tr>\n",
       "    <tr>\n",
       "      <th>1</th>\n",
       "      <td>2</td>\n",
       "      <td>120421</td>\n",
       "      <td>other</td>\n",
       "      <td>off_brand</td>\n",
       "      <td>4.5</td>\n",
       "      <td>10</td>\n",
       "      <td>16.0</td>\n",
       "      <td>54.3</td>\n",
       "      <td>1045</td>\n",
       "    </tr>\n",
       "    <tr>\n",
       "      <th>2</th>\n",
       "      <td>3</td>\n",
       "      <td>95242</td>\n",
       "      <td>toys</td>\n",
       "      <td>off_brand</td>\n",
       "      <td>2.9</td>\n",
       "      <td>6</td>\n",
       "      <td>25.0</td>\n",
       "      <td>88.2</td>\n",
       "      <td>1461</td>\n",
       "    </tr>\n",
       "    <tr>\n",
       "      <th>3</th>\n",
       "      <td>4</td>\n",
       "      <td>105632</td>\n",
       "      <td>health</td>\n",
       "      <td>off_brand</td>\n",
       "      <td>2.6</td>\n",
       "      <td>8</td>\n",
       "      <td>NaN</td>\n",
       "      <td>5.0</td>\n",
       "      <td>1579</td>\n",
       "    </tr>\n",
       "    <tr>\n",
       "      <th>4</th>\n",
       "      <td>5</td>\n",
       "      <td>221627</td>\n",
       "      <td>toys</td>\n",
       "      <td>off_brand</td>\n",
       "      <td>4.9</td>\n",
       "      <td>11</td>\n",
       "      <td>25.0</td>\n",
       "      <td>57.0</td>\n",
       "      <td>2643</td>\n",
       "    </tr>\n",
       "  </tbody>\n",
       "</table>\n",
       "</div>"
      ],
      "text/plain": [
       "   Unnamed: 0  products_sold product_category    quality  satisfaction  \\\n",
       "0           1          67648           health  off_brand           3.5   \n",
       "1           2         120421            other  off_brand           4.5   \n",
       "2           3          95242             toys  off_brand           2.9   \n",
       "3           4         105632           health  off_brand           2.6   \n",
       "4           5         221627             toys  off_brand           4.9   \n",
       "\n",
       "   discount  retail_price  perc_physical  market_size  \n",
       "0        12          33.0           42.3          852  \n",
       "1        10          16.0           54.3         1045  \n",
       "2         6          25.0           88.2         1461  \n",
       "3         8           NaN            5.0         1579  \n",
       "4        11          25.0           57.0         2643  "
      ]
     },
     "execution_count": 4,
     "metadata": {},
     "output_type": "execute_result"
    }
   ],
   "source": [
    "data_petshop = pd.read_csv('1655023Pet shop.csv')\n",
    "data_petshop.head()"
   ]
  },
  {
   "cell_type": "code",
   "execution_count": null,
   "metadata": {},
   "outputs": [],
   "source": []
  }
 ],
 "metadata": {
  "kernelspec": {
   "display_name": "Python 3",
   "language": "python",
   "name": "python3"
  },
  "language_info": {
   "codemirror_mode": {
    "name": "ipython",
    "version": 3
   },
   "file_extension": ".py",
   "mimetype": "text/x-python",
   "name": "python",
   "nbconvert_exporter": "python",
   "pygments_lexer": "ipython3",
   "version": "3.10.13"
  }
 },
 "nbformat": 4,
 "nbformat_minor": 2
}
